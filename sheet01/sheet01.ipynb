{
 "cells": [
  {
   "cell_type": "markdown",
   "id": "a54278eb",
   "metadata": {},
   "source": [
    "# Sheet 1"
   ]
  },
  {
   "cell_type": "code",
   "execution_count": null,
   "id": "e7563373",
   "metadata": {},
   "outputs": [],
   "source": [
    "import numpy as np\n",
    "import matplotlib.pyplot as plt \n",
    "%matplotlib inline"
   ]
  },
  {
   "cell_type": "markdown",
   "id": "deb48469",
   "metadata": {},
   "source": [
    "## 1 Principal Component Analysis\n",
    "### a"
   ]
  },
  {
   "cell_type": "code",
   "execution_count": null,
   "id": "525a61ac",
   "metadata": {},
   "outputs": [],
   "source": [
    "# TODO: implement PCA (fill in the blanks in the function below)\n",
    "\n",
    "def pca(data, n_components=None):\n",
    "    \"\"\"\n",
    "    Principal Component Analysis on a p x N data matrix.\n",
    "    \n",
    "    Parameters\n",
    "    ----------\n",
    "    data : np.ndarray\n",
    "        Data matrix of shape (p, N).\n",
    "    n_components : int, optional\n",
    "        Number of requested components. By default returns all components.\n",
    "        \n",
    "    Returns\n",
    "    -------\n",
    "    np.ndarray, np.ndarray\n",
    "        the pca components (shape (n_components, p)) and the projection (shape (n_components, N))\n",
    "\n",
    "    \"\"\"\n",
    "    # set n_components to p by default\n",
    "    n_components = data.shape[0] if n_components is None else n_components\n",
    "    assert n_components <= data.shape[0], f\"Got n_components larger than dimensionality of data!\"\n",
    "    \n",
    "    # center the data\n",
    "    \n",
    "    # compute X times X transpose\n",
    "    \n",
    "    # compute the eigenvectors and eigenvalues\n",
    "    \n",
    "    # sort the eigenvectors by eigenvalue and take the n_components largest ones\n",
    "    \n",
    "    # compute X_projected, the projection of the data to the components\n",
    "    \n",
    "    return components, X_projected  # return the n_components first components and the pca projection of the data"
   ]
  },
  {
   "cell_type": "code",
   "execution_count": null,
   "id": "61697102",
   "metadata": {},
   "outputs": [],
   "source": [
    "# Example data to test your implementation \n",
    "# All the asserts on the bottom should go through if your implementation is correct\n",
    "\n",
    "data = np.array([\n",
    "    [ 1,  0,  0, -1,  0,  0],\n",
    "    [ 0,  3,  0,  0, -3,  0],\n",
    "    [ 0,  0,  5,  0,  0, -5]\n",
    "], dtype=np.float32)\n",
    "\n",
    "# add a random offset to all samples. it should not affect the results\n",
    "data += np.random.randn(data.shape[0], 1)\n",
    "\n",
    "n_components = 2\n",
    "components, projection = pca(data, n_components=n_components)  # apply your implementation\n",
    "\n",
    "# the correct results are known (up to some signs)\n",
    "true_components = np.array([[0, 0, 1], [0, 1, 0]], dtype=np.float32)\n",
    "true_projection = np.array([\n",
    "    [ 0,  0,  5,  0,  0, -5],\n",
    "    [ 0,  3,  0,  0, -3,  0]\n",
    "], dtype=np.float32)\n",
    "\n",
    "# check that components match, up to sign\n",
    "assert isinstance(components, np.ndarray), f'Expected components to be numpy array but got {type(components)}'\n",
    "assert components.shape == true_components.shape, f'{components.shape}!={true_components.shape}'\n",
    "assert np.allclose(np.abs(components * true_components).sum(1), np.ones(n_components)), f'Components not matching'\n",
    "\n",
    "# check that projections agree, taking into account potentially flipped components\n",
    "assert isinstance(projection, np.ndarray), f'Expected projection to be numpy array but got {type(projection)}'\n",
    "assert projection.shape == (n_components, data.shape[1]), f'Incorrect shape of projection: Expected {(n_components, data.shape[1])}, got {projection.shape}'\n",
    "assert np.allclose(projection, true_projection * (components * true_components).sum(1, keepdims=True), atol=1e-6), f'Projections not matching'\n",
    "\n",
    "print('Test successful!')"
   ]
  },
  {
   "cell_type": "markdown",
   "id": "de96d908",
   "metadata": {},
   "source": [
    "### b\n",
    "Load the data (it is a subset of the data at https://opendata.cern.ch/record/4910#)"
   ]
  },
  {
   "cell_type": "code",
   "execution_count": null,
   "id": "44365ac5",
   "metadata": {},
   "outputs": [],
   "source": [
    "features = np.load('data/dijet_features.npy')\n",
    "labels = np.load('data/dijet_labels.npy')\n",
    "label_names = ['b', 'c', 'q']  # bottom, charm or light quarks\n",
    "\n",
    "print(f'{features.shape=}, {labels.shape=}')  # print the shapes\n",
    "\n",
    "# TODO: print how many samples of each class are present in the data (hint: numpy.unique)"
   ]
  },
  {
   "cell_type": "markdown",
   "id": "91bcf5cc",
   "metadata": {},
   "source": [
    "Normalize the data"
   ]
  },
  {
   "cell_type": "code",
   "execution_count": null,
   "id": "a89ec359",
   "metadata": {},
   "outputs": [],
   "source": [
    "# TODO: report range of features and normalize the data to zero mean and unit variance"
   ]
  },
  {
   "cell_type": "markdown",
   "id": "097735d4",
   "metadata": {},
   "source": [
    "## 2 Robust PCA"
   ]
  },
  {
   "cell_type": "markdown",
   "id": "a677883c",
   "metadata": {},
   "source": [
    "### a"
   ]
  },
  {
   "cell_type": "code",
   "execution_count": null,
   "id": "c264ea90",
   "metadata": {},
   "outputs": [],
   "source": [
    "# load data\n",
    "data = np.load('data/robust_pca_data.npy')\n",
    "\n",
    "# TODO: Perform standard PCA and plot the first principal component in a scatter plot of the data\n"
   ]
  },
  {
   "cell_type": "markdown",
   "id": "cc90eb19",
   "metadata": {},
   "source": [
    "### b"
   ]
  },
  {
   "cell_type": "code",
   "execution_count": null,
   "id": "0ab1626d",
   "metadata": {},
   "outputs": [],
   "source": [
    "# TODO: Compute the first principal component in a robust way: Use the Tukey potential with the scale\n",
    "# parameter s = on the distances. Parameterize the line with the angle φ to the x-axis. Plot the error\n",
    "# as a function of φ. Interpret the two minima."
   ]
  },
  {
   "cell_type": "markdown",
   "id": "c01db4b2",
   "metadata": {},
   "source": [
    "### c"
   ]
  },
  {
   "cell_type": "code",
   "execution_count": null,
   "id": "258700b6",
   "metadata": {},
   "outputs": [],
   "source": [
    "# TODO: Plot the potential in the scatter plot for the two minima $\\varphi^*$."
   ]
  }
 ],
 "metadata": {
  "kernelspec": {
   "display_name": "base",
   "language": "python",
   "name": "python3"
  },
  "language_info": {
   "name": "python",
   "version": "3.11.7"
  }
 },
 "nbformat": 4,
 "nbformat_minor": 5
}
